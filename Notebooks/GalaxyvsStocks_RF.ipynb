{
 "cells": [
  {
   "cell_type": "markdown",
   "metadata": {},
   "source": [
    " # Imports "
   ]
  },
  {
   "cell_type": "code",
   "execution_count": 26,
   "metadata": {},
   "outputs": [],
   "source": [
    "import praw\n",
    "import string\n",
    "import pandas as pd\n",
    "import numpy as np\n",
    "import matplotlib.pyplot as plt\n",
    "import seaborn as sns\n",
    "\n",
    "from sklearn.feature_extraction.text import CountVectorizer\n",
    "from sklearn.model_selection import train_test_split, GridSearchCV, cross_val_score\n",
    "from sklearn.metrics import classification_report, confusion_matrix, accuracy_score, roc_auc_score\n",
    "from sklearn.linear_model import LogisticRegression,ElasticNetCV, Lasso, LassoCV,  Ridge, RidgeCV\n",
    "from sklearn.pipeline import Pipeline\n",
    "from sklearn.preprocessing import StandardScaler\n",
    "from sklearn.ensemble import BaggingClassifier,RandomForestClassifier\n",
    "from sklearn.ensemble import AdaBoostClassifier, GradientBoostingClassifier, VotingClassifier\n",
    "from sklearn.metrics import plot_confusion_matrix,plot_roc_curve\n",
    "from sklearn.feature_extraction import text\n",
    "from nltk.stem import WordNetLemmatizer \n",
    "from nltk.tokenize import sent_tokenize, word_tokenize, RegexpTokenizer\n",
    "from nltk.corpus import stopwords\n",
    "import re\n",
    "\n",
    "from jupyterthemes import jtplot\n",
    "jtplot.style()\n",
    "\n",
    "pd.options.display.max_colwidth = 400\n"
   ]
  },
  {
   "cell_type": "markdown",
   "metadata": {},
   "source": [
    "# Load Data"
   ]
  },
  {
   "cell_type": "code",
   "execution_count": 27,
   "metadata": {},
   "outputs": [
    {
     "data": {
      "text/html": [
       "<div>\n",
       "<style scoped>\n",
       "    .dataframe tbody tr th:only-of-type {\n",
       "        vertical-align: middle;\n",
       "    }\n",
       "\n",
       "    .dataframe tbody tr th {\n",
       "        vertical-align: top;\n",
       "    }\n",
       "\n",
       "    .dataframe thead th {\n",
       "        text-align: right;\n",
       "    }\n",
       "</style>\n",
       "<table border=\"1\" class=\"dataframe\">\n",
       "  <thead>\n",
       "    <tr style=\"text-align: right;\">\n",
       "      <th></th>\n",
       "      <th>title</th>\n",
       "      <th>id</th>\n",
       "      <th>body</th>\n",
       "      <th>subreddit</th>\n",
       "    </tr>\n",
       "  </thead>\n",
       "  <tbody>\n",
       "    <tr>\n",
       "      <th>0</th>\n",
       "      <td></td>\n",
       "      <td>jeatww</td>\n",
       "      <td></td>\n",
       "      <td>0</td>\n",
       "    </tr>\n",
       "    <tr>\n",
       "      <th>1</th>\n",
       "      <td></td>\n",
       "      <td>jea1j3</td>\n",
       "      <td></td>\n",
       "      <td>0</td>\n",
       "    </tr>\n",
       "    <tr>\n",
       "      <th>2</th>\n",
       "      <td>1 astral project  fly to a different planet  fly into alien home  haunt the alien  fly back to your body  wake up  come to term with the fact u just scared an alien</td>\n",
       "      <td>je9nz7</td>\n",
       "      <td>1 astral project  fly to a different planet  fly into alien home  haunt the alien  fly back to your body  wake up  come to term with the fact u just scared an alien</td>\n",
       "      <td>0</td>\n",
       "    </tr>\n",
       "    <tr>\n",
       "      <th>3</th>\n",
       "      <td>several month ago ive taken time to let this sink in i wa practicing meditation on a daily basis and had a vision of an et woman during a meditation i wa only trying to relax not make any sort of contact so the experience ha shocked me out of meditation practice ever since an extraordinarily clear image had come into my mind of this woman i can hardly imagine any person or thing in my mind in ...</td>\n",
       "      <td>je84qo</td>\n",
       "      <td>several month ago ive taken time to let this sink in i wa practicing meditation on a daily basis and had a vision of an et woman during a meditation i wa only trying to relax not make any sort of contact so the experience ha shocked me out of meditation practice ever since an extraordinarily clear image had come into my mind of this woman i can hardly imagine any person or thing in my mind in ...</td>\n",
       "      <td>0</td>\n",
       "    </tr>\n",
       "    <tr>\n",
       "      <th>4</th>\n",
       "      <td>think about it if i talk about certain thing then make some thing up the abc agency will prolly go like “ayy lmao he’s a shill”</td>\n",
       "      <td>je5wtj</td>\n",
       "      <td>think about it if i talk about certain thing then make some thing up the abc agency will prolly go like “ayy lmao he’s a shill”</td>\n",
       "      <td>0</td>\n",
       "    </tr>\n",
       "  </tbody>\n",
       "</table>\n",
       "</div>"
      ],
      "text/plain": [
       "                                                                                                                                                                                                                                                                                                                                                                                                             title  \\\n",
       "0                                                                                                                                                                                                                                                                                                                                                                                                                    \n",
       "1                                                                                                                                                                                                                                                                                                                                                                                                                    \n",
       "2                                                                                                                                                                                                                                            1 astral project  fly to a different planet  fly into alien home  haunt the alien  fly back to your body  wake up  come to term with the fact u just scared an alien    \n",
       "3  several month ago ive taken time to let this sink in i wa practicing meditation on a daily basis and had a vision of an et woman during a meditation i wa only trying to relax not make any sort of contact so the experience ha shocked me out of meditation practice ever since an extraordinarily clear image had come into my mind of this woman i can hardly imagine any person or thing in my mind in ...   \n",
       "4                                                                                                                                                                                                                                                                                 think about it if i talk about certain thing then make some thing up the abc agency will prolly go like “ayy lmao he’s a shill”    \n",
       "\n",
       "       id  \\\n",
       "0  jeatww   \n",
       "1  jea1j3   \n",
       "2  je9nz7   \n",
       "3  je84qo   \n",
       "4  je5wtj   \n",
       "\n",
       "                                                                                                                                                                                                                                                                                                                                                                                                              body  \\\n",
       "0                                                                                                                                                                                                                                                                                                                                                                                                                    \n",
       "1                                                                                                                                                                                                                                                                                                                                                                                                                    \n",
       "2                                                                                                                                                                                                                                            1 astral project  fly to a different planet  fly into alien home  haunt the alien  fly back to your body  wake up  come to term with the fact u just scared an alien    \n",
       "3  several month ago ive taken time to let this sink in i wa practicing meditation on a daily basis and had a vision of an et woman during a meditation i wa only trying to relax not make any sort of contact so the experience ha shocked me out of meditation practice ever since an extraordinarily clear image had come into my mind of this woman i can hardly imagine any person or thing in my mind in ...   \n",
       "4                                                                                                                                                                                                                                                                                 think about it if i talk about certain thing then make some thing up the abc agency will prolly go like “ayy lmao he’s a shill”    \n",
       "\n",
       "   subreddit  \n",
       "0          0  \n",
       "1          0  \n",
       "2          0  \n",
       "3          0  \n",
       "4          0  "
      ]
     },
     "execution_count": 27,
     "metadata": {},
     "output_type": "execute_result"
    }
   ],
   "source": [
    "path = '../project_3/ALvsST.csv'\n",
    "\n",
    "df = pd.read_csv(path)\n",
    "df.head()"
   ]
  },
  {
   "cell_type": "markdown",
   "metadata": {},
   "source": [
    "# PreProcessing + Modeling"
   ]
  },
  {
   "cell_type": "code",
   "execution_count": 28,
   "metadata": {},
   "outputs": [],
   "source": [
    "X = df['title']\n",
    "y = df['subreddit']\n",
    "\n",
    "X_train, X_test, y_train, y_test = train_test_split(X,\n",
    "                                                    y,\n",
    "                                                    test_size = 0.33,\n",
    "                                                    random_state = 63,\n",
    "                                                    stratify = y )\n",
    "\n",
    "my_stop_words = text.ENGLISH_STOP_WORDS.union([\"ha\",'wa','im','doe'])\n",
    "\n",
    "cv = CountVectorizer(stop_words=my_stop_words,max_features=5000)\n",
    "\n",
    "cv.fit(X_train)\n",
    "\n",
    "X_train_cv = cv.transform(X_train)\n",
    "\n",
    "X_test_cv = cv.transform(X_test)\n"
   ]
  },
  {
   "cell_type": "code",
   "execution_count": 43,
   "metadata": {},
   "outputs": [
    {
     "name": "stdout",
     "output_type": "stream",
     "text": [
      "Fitting 5 folds for each of 40 candidates, totalling 200 fits\n"
     ]
    },
    {
     "name": "stderr",
     "output_type": "stream",
     "text": [
      "[Parallel(n_jobs=1)]: Using backend SequentialBackend with 1 concurrent workers.\n",
      "[Parallel(n_jobs=1)]: Done 200 out of 200 | elapsed:  2.2min finished\n"
     ]
    },
    {
     "name": "stdout",
     "output_type": "stream",
     "text": [
      "0.97441906653426\n"
     ]
    },
    {
     "data": {
      "text/plain": [
       "{'max_depth': None, 'max_features': 'auto', 'n_estimators': 125}"
      ]
     },
     "execution_count": 43,
     "metadata": {},
     "output_type": "execute_result"
    }
   ],
   "source": [
    "rf = RandomForestClassifier(random_state=42)\n",
    "\n",
    "params = {\n",
    "    'n_estimators':[75,100,125,150,200],\n",
    "    'max_depth':[None,2,3,4],\n",
    "    'max_features':[None,'auto']}\n",
    "\n",
    "gs = GridSearchCV(rf,param_grid=params,cv=5,verbose=1)\n",
    "gs.fit(X_train_cv,y_train)\n",
    "print(gs.best_score_) #crossval score\n",
    "gs.best_params_\n",
    "\n"
   ]
  },
  {
   "cell_type": "markdown",
   "metadata": {},
   "source": [
    "# Evaluate Model Metrics"
   ]
  },
  {
   "cell_type": "code",
   "execution_count": 44,
   "metadata": {},
   "outputs": [
    {
     "data": {
      "text/plain": [
       "(1.0, 0.966412213740458)"
      ]
     },
     "execution_count": 44,
     "metadata": {},
     "output_type": "execute_result"
    }
   ],
   "source": [
    "gs.score(X_train_cv,y_train) , gs.score(X_test_cv,y_test)"
   ]
  },
  {
   "cell_type": "code",
   "execution_count": null,
   "metadata": {},
   "outputs": [],
   "source": []
  },
  {
   "cell_type": "code",
   "execution_count": 45,
   "metadata": {},
   "outputs": [
    {
     "data": {
      "image/png": "[encoded data removed]",
      "text/plain": [
       "<Figure size 460.8x403.2 with 2 Axes>"
      ]
     },
     "metadata": {},
     "output_type": "display_data"
    }
   ],
   "source": [
    "# Generate predictions.\n",
    "preds = gs.predict(X_test_cv)\n",
    "pred_proba = gs.predict_proba(X_test_cv)[:,1]\n",
    "\n",
    "def metrics(y_test, y_predict, pred_proba):\n",
    "    print('Accuracy score %s ' % accuracy_score(y_test, y_predict), '\\n')\n",
    "    print('----------------------------------------------------------------')\n",
    "    print(pd.DataFrame(confusion_matrix(y_test, y_predict), \n",
    "                            index=['Predicted Alienz', 'Predicted Stonks'], \n",
    "                            columns=['Actual Alienz', 'Actual Stonks']), '\\n')\n",
    "    print('-----------------------------------------------------------------')\n",
    "    print(classification_report(y_test, y_predict))\n",
    "    print('-----------------------------------------------------------------')\n",
    "    print('ROC_AUC SCORE %s ' %roc_auc_score(y_test, pred_proba))\n",
    "\n",
    "plot_confusion_matrix(gs, X_test_cv, y_test, cmap='Blues', \n",
    "                      values_format='d', display_labels=['Alienz', 'Stocks']);"
   ]
  },
  {
   "cell_type": "code",
   "execution_count": 46,
   "metadata": {},
   "outputs": [
    {
     "name": "stdout",
     "output_type": "stream",
     "text": [
      "Accuracy score 0.966412213740458  \n",
      "\n",
      "----------------------------------------------------------------\n",
      "                  Actual Alienz  Actual Stonks\n",
      "Predicted Alienz            321              7\n",
      "Predicted Stonks             15            312 \n",
      "\n",
      "-----------------------------------------------------------------\n",
      "              precision    recall  f1-score   support\n",
      "\n",
      "           0       0.96      0.98      0.97       328\n",
      "           1       0.98      0.95      0.97       327\n",
      "\n",
      "    accuracy                           0.97       655\n",
      "   macro avg       0.97      0.97      0.97       655\n",
      "weighted avg       0.97      0.97      0.97       655\n",
      "\n",
      "-----------------------------------------------------------------\n",
      "ROC_AUC SCORE 0.9919118743939733 \n"
     ]
    }
   ],
   "source": [
    "metrics(y_test, preds, pred_proba)"
   ]
  },
  {
   "cell_type": "code",
   "execution_count": 48,
   "metadata": {},
   "outputs": [
    {
     "data": {
      "image/png": "[encoded data removed]",
      "text/plain": [
       "<Figure size 460.8x403.2 with 1 Axes>"
      ]
     },
     "metadata": {},
     "output_type": "display_data"
    }
   ],
   "source": [
    "\n",
    "plot_roc_curve(gs, X_test_cv, y_test)\n",
    "plt.plot([0, 1], [0, 1],\n",
    "         label='baseline', linestyle='--')\n",
    "plt.legend();"
   ]
  },
  {
   "cell_type": "code",
   "execution_count": null,
   "metadata": {},
   "outputs": [],
   "source": []
  },
  {
   "cell_type": "code",
   "execution_count": null,
   "metadata": {},
   "outputs": [],
   "source": []
  },
  {
   "cell_type": "code",
   "execution_count": null,
   "metadata": {},
   "outputs": [],
   "source": []
  },
  {
   "cell_type": "code",
   "execution_count": null,
   "metadata": {},
   "outputs": [],
   "source": []
  },
  {
   "cell_type": "code",
   "execution_count": null,
   "metadata": {},
   "outputs": [],
   "source": []
  },
  {
   "cell_type": "code",
   "execution_count": null,
   "metadata": {},
   "outputs": [],
   "source": []
  },
  {
   "cell_type": "code",
   "execution_count": null,
   "metadata": {},
   "outputs": [],
   "source": []
  },
  {
   "cell_type": "code",
   "execution_count": null,
   "metadata": {},
   "outputs": [],
   "source": []
  },
  {
   "cell_type": "code",
   "execution_count": null,
   "metadata": {},
   "outputs": [],
   "source": []
  },
  {
   "cell_type": "code",
   "execution_count": null,
   "metadata": {},
   "outputs": [],
   "source": [
    "# pipe = Pipeline([\n",
    "#     ('cv', CountVectorizer()),\n",
    "#     ('rt', RandomForestClassifier())\n",
    "# ])\n",
    "\n",
    "# # Define dictionary of hyperparameters.\n",
    "# pipe_params = {' cv__stop_words': ['english', None], \n",
    "#                 'cv__ngram_range': [(2,2), (1,2), (2,3)],\n",
    "#                 'cv__min_df': [1,2, 3], \n",
    "#                 'cv__max_features': [100, 1000,3000,5000],\n",
    "#                 'cv__max_df': [.7,.9,.98],\n",
    "#                 'cv__max_df': [.7,.9,.98],\n",
    "              \n",
    "              \n",
    "#               }\n",
    "\n",
    "# pipe_gridsearch = GridSearchCV(pipe, # What is the model we want to fit?\n",
    "#                                 pipe_params, # What is the dictionary of hyperparameters?\n",
    "#                                 cv=5, # What number of folds in CV will we use?\n",
    "#                                 verbose=1)\n",
    "\n",
    "# #Fit the GridSearchCV object \n",
    "#     pipe_gridsearch.fit(X_train_cv, y_train);\n",
    "\n",
    "#     #best score and param used\n",
    "#     pipe_gridsearch.best_score_ , pipe_gridsearch.best_params_\n",
    "\n",
    "#     # Evaluate the best fit model on the test data.\n",
    "#     pipe_gridsearch.score(X_test_cv, y_test)\n",
    "\n",
    "\n"
   ]
  },
  {
   "cell_type": "code",
   "execution_count": null,
   "metadata": {},
   "outputs": [],
   "source": []
  },
  {
   "cell_type": "code",
   "execution_count": null,
   "metadata": {},
   "outputs": [],
   "source": []
  },
  {
   "cell_type": "code",
   "execution_count": null,
   "metadata": {},
   "outputs": [],
   "source": []
  },
  {
   "cell_type": "code",
   "execution_count": null,
   "metadata": {},
   "outputs": [],
   "source": []
  },
  {
   "cell_type": "code",
   "execution_count": null,
   "metadata": {},
   "outputs": [],
   "source": []
  },
  {
   "cell_type": "code",
   "execution_count": null,
   "metadata": {},
   "outputs": [],
   "source": []
  },
  {
   "cell_type": "code",
   "execution_count": null,
   "metadata": {},
   "outputs": [],
   "source": []
  },
  {
   "cell_type": "code",
   "execution_count": null,
   "metadata": {},
   "outputs": [],
   "source": []
  },
  {
   "cell_type": "code",
   "execution_count": 8,
   "metadata": {},
   "outputs": [],
   "source": []
  },
  {
   "cell_type": "code",
   "execution_count": null,
   "metadata": {},
   "outputs": [],
   "source": []
  },
  {
   "cell_type": "code",
   "execution_count": null,
   "metadata": {},
   "outputs": [],
   "source": []
  },
  {
   "cell_type": "code",
   "execution_count": null,
   "metadata": {},
   "outputs": [],
   "source": []
  },
  {
   "cell_type": "code",
   "execution_count": 9,
   "metadata": {},
   "outputs": [],
   "source": []
  },
  {
   "cell_type": "code",
   "execution_count": null,
   "metadata": {},
   "outputs": [],
   "source": []
  },
  {
   "cell_type": "code",
   "execution_count": null,
   "metadata": {},
   "outputs": [],
   "source": []
  },
  {
   "cell_type": "code",
   "execution_count": null,
   "metadata": {},
   "outputs": [],
   "source": []
  },
  {
   "cell_type": "code",
   "execution_count": null,
   "metadata": {},
   "outputs": [],
   "source": []
  },
  {
   "cell_type": "code",
   "execution_count": 10,
   "metadata": {},
   "outputs": [],
   "source": []
  },
  {
   "cell_type": "code",
   "execution_count": null,
   "metadata": {},
   "outputs": [],
   "source": []
  },
  {
   "cell_type": "code",
   "execution_count": null,
   "metadata": {},
   "outputs": [],
   "source": []
  },
  {
   "cell_type": "code",
   "execution_count": null,
   "metadata": {},
   "outputs": [],
   "source": []
  },
  {
   "cell_type": "code",
   "execution_count": null,
   "metadata": {},
   "outputs": [],
   "source": []
  },
  {
   "cell_type": "code",
   "execution_count": null,
   "metadata": {},
   "outputs": [],
   "source": []
  },
  {
   "cell_type": "code",
   "execution_count": null,
   "metadata": {},
   "outputs": [],
   "source": []
  },
  {
   "cell_type": "code",
   "execution_count": null,
   "metadata": {},
   "outputs": [],
   "source": []
  },
  {
   "cell_type": "code",
   "execution_count": 11,
   "metadata": {},
   "outputs": [],
   "source": []
  },
  {
   "cell_type": "code",
   "execution_count": null,
   "metadata": {},
   "outputs": [],
   "source": []
  },
  {
   "cell_type": "code",
   "execution_count": null,
   "metadata": {},
   "outputs": [],
   "source": []
  },
  {
   "cell_type": "code",
   "execution_count": null,
   "metadata": {},
   "outputs": [],
   "source": []
  },
  {
   "cell_type": "code",
   "execution_count": null,
   "metadata": {},
   "outputs": [],
   "source": []
  },
  {
   "cell_type": "code",
   "execution_count": null,
   "metadata": {},
   "outputs": [],
   "source": []
  },
  {
   "cell_type": "code",
   "execution_count": null,
   "metadata": {},
   "outputs": [],
   "source": []
  },
  {
   "cell_type": "code",
   "execution_count": null,
   "metadata": {},
   "outputs": [],
   "source": []
  }
 ],
 "metadata": {
  "kernelspec": {
   "display_name": "Python 3",
   "language": "python",
   "name": "python3"
  },
  "language_info": {
   "codemirror_mode": {
    "name": "ipython",
    "version": 3
   },
   "file_extension": ".py",
   "mimetype": "text/x-python",
   "name": "python",
   "nbconvert_exporter": "python",
   "pygments_lexer": "ipython3",
   "version": "3.8.3"
  }
 },
 "nbformat": 4,
 "nbformat_minor": 4
}
