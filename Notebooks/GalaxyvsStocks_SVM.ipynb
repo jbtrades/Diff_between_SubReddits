{
 "cells": [
  {
   "cell_type": "markdown",
   "metadata": {},
   "source": []
  },
  {
   "cell_type": "code",
   "execution_count": 124,
   "metadata": {},
   "outputs": [],
   "source": [
    "import praw\n",
    "import string\n",
    "import pandas as pd\n",
    "import numpy as np\n",
    "import matplotlib.pyplot as plt\n",
    "import seaborn as sns\n",
    "\n",
    "from sklearn.feature_extraction.text import CountVectorizer, TfidfVectorizer\n",
    "from sklearn.model_selection import train_test_split, GridSearchCV, cross_val_score, StratifiedKFold\n",
    "from sklearn.metrics import classification_report, confusion_matrix, accuracy_score, roc_auc_score\n",
    "from sklearn.linear_model import LogisticRegression,ElasticNetCV, Lasso, LassoCV,  Ridge, RidgeCV\n",
    "from sklearn.pipeline import Pipeline\n",
    "from sklearn.preprocessing import StandardScaler\n",
    "from sklearn.ensemble import BaggingClassifier,RandomForestClassifier\n",
    "from sklearn.ensemble import AdaBoostClassifier, GradientBoostingClassifier, VotingClassifier\n",
    "from sklearn.metrics import plot_confusion_matrix,plot_roc_curve\n",
    "from sklearn.svm import LinearSVC, SVC, NuSVC\n",
    "from sklearn.feature_extraction import text\n",
    "\n",
    "from nltk.stem import WordNetLemmatizer \n",
    "from nltk.tokenize import sent_tokenize, word_tokenize, RegexpTokenizer\n",
    "from nltk.corpus import stopwords\n",
    "import re\n",
    "\n",
    "from jupyterthemes import jtplot\n",
    "jtplot.style()\n",
    "\n",
    "pd.options.display.max_colwidth = 400"
   ]
  },
  {
   "cell_type": "markdown",
   "metadata": {},
   "source": [
    "# Load Data"
   ]
  },
  {
   "cell_type": "code",
   "execution_count": 129,
   "metadata": {},
   "outputs": [
    {
     "data": {
      "text/html": [
       "<div>\n",
       "<style scoped>\n",
       "    .dataframe tbody tr th:only-of-type {\n",
       "        vertical-align: middle;\n",
       "    }\n",
       "\n",
       "    .dataframe tbody tr th {\n",
       "        vertical-align: top;\n",
       "    }\n",
       "\n",
       "    .dataframe thead th {\n",
       "        text-align: right;\n",
       "    }\n",
       "</style>\n",
       "<table border=\"1\" class=\"dataframe\">\n",
       "  <thead>\n",
       "    <tr style=\"text-align: right;\">\n",
       "      <th></th>\n",
       "      <th>title</th>\n",
       "      <th>id</th>\n",
       "      <th>body</th>\n",
       "      <th>subreddit</th>\n",
       "    </tr>\n",
       "  </thead>\n",
       "  <tbody>\n",
       "    <tr>\n",
       "      <th>0</th>\n",
       "      <td></td>\n",
       "      <td>jeatww</td>\n",
       "      <td></td>\n",
       "      <td>0</td>\n",
       "    </tr>\n",
       "    <tr>\n",
       "      <th>1</th>\n",
       "      <td></td>\n",
       "      <td>jea1j3</td>\n",
       "      <td></td>\n",
       "      <td>0</td>\n",
       "    </tr>\n",
       "    <tr>\n",
       "      <th>2</th>\n",
       "      <td>1 astral project  fly to a different planet  fly into alien home  haunt the alien  fly back to your body  wake up  come to term with the fact u just scared an alien</td>\n",
       "      <td>je9nz7</td>\n",
       "      <td>1 astral project  fly to a different planet  fly into alien home  haunt the alien  fly back to your body  wake up  come to term with the fact u just scared an alien</td>\n",
       "      <td>0</td>\n",
       "    </tr>\n",
       "    <tr>\n",
       "      <th>3</th>\n",
       "      <td>several month ago ive taken time to let this sink in i wa practicing meditation on a daily basis and had a vision of an et woman during a meditation i wa only trying to relax not make any sort of contact so the experience ha shocked me out of meditation practice ever since an extraordinarily clear image had come into my mind of this woman i can hardly imagine any person or thing in my mind in ...</td>\n",
       "      <td>je84qo</td>\n",
       "      <td>several month ago ive taken time to let this sink in i wa practicing meditation on a daily basis and had a vision of an et woman during a meditation i wa only trying to relax not make any sort of contact so the experience ha shocked me out of meditation practice ever since an extraordinarily clear image had come into my mind of this woman i can hardly imagine any person or thing in my mind in ...</td>\n",
       "      <td>0</td>\n",
       "    </tr>\n",
       "    <tr>\n",
       "      <th>4</th>\n",
       "      <td>think about it if i talk about certain thing then make some thing up the abc agency will prolly go like “ayy lmao he’s a shill”</td>\n",
       "      <td>je5wtj</td>\n",
       "      <td>think about it if i talk about certain thing then make some thing up the abc agency will prolly go like “ayy lmao he’s a shill”</td>\n",
       "      <td>0</td>\n",
       "    </tr>\n",
       "  </tbody>\n",
       "</table>\n",
       "</div>"
      ],
      "text/plain": [
       "                                                                                                                                                                                                                                                                                                                                                                                                             title  \\\n",
       "0                                                                                                                                                                                                                                                                                                                                                                                                                    \n",
       "1                                                                                                                                                                                                                                                                                                                                                                                                                    \n",
       "2                                                                                                                                                                                                                                            1 astral project  fly to a different planet  fly into alien home  haunt the alien  fly back to your body  wake up  come to term with the fact u just scared an alien    \n",
       "3  several month ago ive taken time to let this sink in i wa practicing meditation on a daily basis and had a vision of an et woman during a meditation i wa only trying to relax not make any sort of contact so the experience ha shocked me out of meditation practice ever since an extraordinarily clear image had come into my mind of this woman i can hardly imagine any person or thing in my mind in ...   \n",
       "4                                                                                                                                                                                                                                                                                 think about it if i talk about certain thing then make some thing up the abc agency will prolly go like “ayy lmao he’s a shill”    \n",
       "\n",
       "       id  \\\n",
       "0  jeatww   \n",
       "1  jea1j3   \n",
       "2  je9nz7   \n",
       "3  je84qo   \n",
       "4  je5wtj   \n",
       "\n",
       "                                                                                                                                                                                                                                                                                                                                                                                                              body  \\\n",
       "0                                                                                                                                                                                                                                                                                                                                                                                                                    \n",
       "1                                                                                                                                                                                                                                                                                                                                                                                                                    \n",
       "2                                                                                                                                                                                                                                            1 astral project  fly to a different planet  fly into alien home  haunt the alien  fly back to your body  wake up  come to term with the fact u just scared an alien    \n",
       "3  several month ago ive taken time to let this sink in i wa practicing meditation on a daily basis and had a vision of an et woman during a meditation i wa only trying to relax not make any sort of contact so the experience ha shocked me out of meditation practice ever since an extraordinarily clear image had come into my mind of this woman i can hardly imagine any person or thing in my mind in ...   \n",
       "4                                                                                                                                                                                                                                                                                 think about it if i talk about certain thing then make some thing up the abc agency will prolly go like “ayy lmao he’s a shill”    \n",
       "\n",
       "   subreddit  \n",
       "0          0  \n",
       "1          0  \n",
       "2          0  \n",
       "3          0  \n",
       "4          0  "
      ]
     },
     "execution_count": 129,
     "metadata": {},
     "output_type": "execute_result"
    }
   ],
   "source": [
    "path = '../project_3/ALvsST.csv'\n",
    "\n",
    "df = pd.read_csv(path)\n",
    "df.head()"
   ]
  },
  {
   "cell_type": "markdown",
   "metadata": {},
   "source": [
    "# PreProcessing + Modeling"
   ]
  },
  {
   "cell_type": "code",
   "execution_count": 153,
   "metadata": {},
   "outputs": [],
   "source": [
    "X = df['title']\n",
    "y = df['subreddit']\n",
    "\n",
    "X_train, X_test, y_train, y_test = train_test_split(X,\n",
    "                                                    y,\n",
    "                                                    test_size = 0.33,\n",
    "                                                    random_state = 63,\n",
    "                                                    stratify = y )\n",
    "\n",
    "\n",
    "my_stop_words = text.ENGLISH_STOP_WORDS.union([\"ha\",'wa','im','doe'])\n",
    "\n",
    "tf = TfidfVectorizer(stop_words=my_stop_words)\n",
    "\n",
    "tf.fit(X_train)\n",
    "\n",
    "X_train_tf = tf.transform(X_train)\n",
    "\n",
    "X_test_tf = tf.transform(X_test)"
   ]
  },
  {
   "cell_type": "code",
   "execution_count": 155,
   "metadata": {},
   "outputs": [
    {
     "data": {
      "text/plain": [
       "GridSearchCV(cv=StratifiedKFold(n_splits=5, random_state=42, shuffle=True),\n",
       "             estimator=SVC(probability=True),\n",
       "             param_grid={'C': array([1.e-02, 1.e-01, 1.e+00, 1.e+01, 1.e+02]),\n",
       "                         'gamma': array([1.e-05, 1.e-04, 1.e-03, 1.e-02, 1.e-01, 1.e+00, 1.e+01]),\n",
       "                         'kernel': ['rbf', 'sigmoid', 'linear', 'poly']},\n",
       "             scoring='accuracy')"
      ]
     },
     "execution_count": 155,
     "metadata": {},
     "output_type": "execute_result"
    }
   ],
   "source": [
    "#pgrid = {\"C\": np.linspace(0.0001, 1, 20)}\n",
    "#https://github.com/josephofiowa/zenzic/blob/master/obama-onion/obama-onion-analysis.ipynb\n",
    "\n",
    "svc = SVC(probability=True)\n",
    "\n",
    "gamma_range = 10.**np.arange(-5, 2)\n",
    "C_range = 10.**np.arange(-2, 3)\n",
    "kernel_range = ['rbf', 'sigmoid', 'linear', 'poly']\n",
    "param_grid = dict(gamma=gamma_range, C=C_range, kernel=kernel_range)\n",
    "cv_folds = StratifiedKFold(shuffle=True,random_state=42)\n",
    "\n",
    "grid = GridSearchCV(svc, param_grid, cv=cv_folds, scoring='accuracy')\n",
    "\n",
    "grid.fit(X_train_tf, y_train)\n"
   ]
  },
  {
   "cell_type": "markdown",
   "metadata": {},
   "source": [
    "# Evaluate Model Metrics"
   ]
  },
  {
   "cell_type": "code",
   "execution_count": 156,
   "metadata": {},
   "outputs": [
    {
     "data": {
      "text/plain": [
       "{'C': 10.0, 'gamma': 0.1, 'kernel': 'rbf'}"
      ]
     },
     "execution_count": 156,
     "metadata": {},
     "output_type": "execute_result"
    }
   ],
   "source": [
    "grid.best_params_"
   ]
  },
  {
   "cell_type": "code",
   "execution_count": 157,
   "metadata": {},
   "outputs": [
    {
     "data": {
      "text/plain": [
       "0.9826869059441055"
      ]
     },
     "execution_count": 157,
     "metadata": {},
     "output_type": "execute_result"
    }
   ],
   "source": [
    "grid.best_score_"
   ]
  },
  {
   "cell_type": "code",
   "execution_count": 159,
   "metadata": {
    "scrolled": true
   },
   "outputs": [
    {
     "data": {
      "image/png": "[encoded data removed]",
      "text/plain": [
       "<Figure size 460.8x403.2 with 2 Axes>"
      ]
     },
     "metadata": {},
     "output_type": "display_data"
    }
   ],
   "source": [
    "# Generate predictions.\n",
    "preds = gs2.predict(X_test_tf)\n",
    "\n",
    "plot_confusion_matrix(gs2, X_test_tf, y_test, cmap='Blues', \n",
    "                      values_format='d', display_labels=['Alienz', 'Stocks']);"
   ]
  },
  {
   "cell_type": "code",
   "execution_count": 160,
   "metadata": {},
   "outputs": [
    {
     "data": {
      "text/plain": [
       "0    328\n",
       "1    327\n",
       "Name: subreddit, dtype: int64"
      ]
     },
     "execution_count": 160,
     "metadata": {},
     "output_type": "execute_result"
    }
   ],
   "source": [
    "y_test.value_counts()"
   ]
  },
  {
   "cell_type": "code",
   "execution_count": 161,
   "metadata": {},
   "outputs": [],
   "source": [
    "#Generate predictions\n",
    "preds = gs2.predict(X_test_tf)\n",
    "pred_proba = gs2.predict_proba(X_test_tf)[:,1]\n",
    "\n",
    "def metrics(y_test, y_predict, pred_proba):\n",
    "    print('Accuracy score %s ' % accuracy_score(y_test, y_predict), '\\n')\n",
    "    print('----------------------------------------------------------------')\n",
    "    print(pd.DataFrame(confusion_matrix(y_test, y_predict), \n",
    "                            index=['Predicted Alienz', 'Predicted Stonks'], \n",
    "                            columns=['Actual Alienz', 'Actual Stonks']), '\\n')\n",
    "    print('-----------------------------------------------------------------')\n",
    "    print(classification_report(y_test, y_predict))\n",
    "    print('-----------------------------------------------------------------')\n",
    "    print('ROC_AUC SCORE %s ' %roc_auc_score(y_test, pred_proba))"
   ]
  },
  {
   "cell_type": "code",
   "execution_count": 162,
   "metadata": {},
   "outputs": [
    {
     "name": "stdout",
     "output_type": "stream",
     "text": [
      "Accuracy score 0.9740458015267176  \n",
      "\n",
      "----------------------------------------------------------------\n",
      "                  Actual Alienz  Actual Stonks\n",
      "Predicted Alienz            313             15\n",
      "Predicted Stonks              2            325 \n",
      "\n",
      "-----------------------------------------------------------------\n",
      "              precision    recall  f1-score   support\n",
      "\n",
      "           0       0.99      0.95      0.97       328\n",
      "           1       0.96      0.99      0.97       327\n",
      "\n",
      "    accuracy                           0.97       655\n",
      "   macro avg       0.97      0.97      0.97       655\n",
      "weighted avg       0.97      0.97      0.97       655\n",
      "\n",
      "-----------------------------------------------------------------\n",
      "ROC_AUC SCORE 0.9988532110091742 \n"
     ]
    }
   ],
   "source": [
    "metrics(y_test, preds, pred_proba)"
   ]
  },
  {
   "cell_type": "code",
   "execution_count": 165,
   "metadata": {},
   "outputs": [
    {
     "data": {
      "image/png": "[encoded data removed]",
      "text/plain": [
       "<Figure size 460.8x403.2 with 1 Axes>"
      ]
     },
     "metadata": {},
     "output_type": "display_data"
    }
   ],
   "source": [
    "plot_roc_curve(gs2, X_test_tf, y_test)\n",
    "plt.plot([0, 1], [0, 1],\n",
    "         label='baseline', linestyle='--')\n",
    "plt.legend();"
   ]
  },
  {
   "cell_type": "code",
   "execution_count": null,
   "metadata": {},
   "outputs": [],
   "source": []
  },
  {
   "cell_type": "code",
   "execution_count": null,
   "metadata": {},
   "outputs": [],
   "source": []
  },
  {
   "cell_type": "code",
   "execution_count": null,
   "metadata": {},
   "outputs": [],
   "source": []
  }
 ],
 "metadata": {
  "kernelspec": {
   "display_name": "Python 3",
   "language": "python",
   "name": "python3"
  },
  "language_info": {
   "codemirror_mode": {
    "name": "ipython",
    "version": 3
   },
   "file_extension": ".py",
   "mimetype": "text/x-python",
   "name": "python",
   "nbconvert_exporter": "python",
   "pygments_lexer": "ipython3",
   "version": "3.8.3"
  }
 },
 "nbformat": 4,
 "nbformat_minor": 4
}
