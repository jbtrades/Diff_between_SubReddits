{
 "cells": [
  {
   "cell_type": "markdown",
   "metadata": {},
   "source": [
    "# Galactic vs Stock Talk\n",
    "\n",
    "**My Automoderator is the future of the internet but still deeply imperfect**\n",
    "\n",
    "![](https://cdn0.tnwcdn.com/wp-content/blogs.dir/1/files/2019/08/reddit-deleted-posts-comments-threads-796x450.jpg)\n",
    "\n",
    "\n",
    "\n",
    "*Humans and Technology...what's the worst that could happen?*\n",
    "-------------------------------------------------------------------------------\n",
    "**Banishing Tin foilers and tracking down Ponzies— Reporting for duty on the front lines, within the social site’s volunteer army.**\n",
    "\n",
    "\n",
    "# Background:\n",
    "\n",
    "**I’m a moderator for a popular Finance related subreddit….I’m lazy, so I built a script/model to detect non-related posts and automatically remove it from my precious forum.**\n",
    "\n",
    "\n",
    "# Problem Statement:\n",
    "\n",
    "Could I build an NLP model that reduces tinfoil posts on my assigned subreddit with high degree of accuracy? \n",
    "\n",
    "\n",
    "# Data:\n",
    "\n",
    "  - Reddit SubReddit Posts in the following;\n",
    "  \n",
    "\t- Aliens SubReddit\n",
    "\t- Stocks SubReddit\n",
    "\n",
    " \n",
    "| Index | title | subreddit | \n",
    "| --- | --- | --- |\n",
    "| **0** | Prophet Yahweh summons UFO for ABC News | Aliens |\n",
    "| **1** | What's the best defense sector company to invest in? | Stocks | \n",
    "\n",
    "  \n",
    "# Methodology:\n",
    "\n",
    "  - Data Cleaning - Removed Https, www, white spaces, symbols etc.\n",
    "  - PRAW - Data Sourcing\n",
    "  - NLP - Word Tokenizers\n",
    "  - Modeling - Classification models\n",
    " \n",
    "\n",
    "# EDA:\n",
    "\n",
    "- Just, Like , Year were very common in both Aliens and Stocks reddits\n",
    "\n",
    "- See EDA workbook in notebooks folder in for visuals \n",
    "\n",
    "\n",
    "# Data Preprocessing:\n",
    "\n",
    "   - Vectorizing - Countvectorizer , TfidfVectorizer\n",
    "   \n",
    "   Params = english stop words + ha, wa, im, doe , max_features=5000\n",
    "  \n",
    "   - RegexpTokenizer\n",
    "   \n",
    "   - WordNetLemmatizer\n",
    "   \n",
    "   \n",
    "# Modeling:\n",
    "  - Features = title\n",
    "  - Models used = Log Reg, Random Forest, SVM C\n",
    "  - Gridsearching + hyperparameter tuning\n",
    "  \n",
    "  \n",
    "# Conclusions:\n",
    "  - Overall my accuracy increased from Log reg(first model) to SVM my final model\n",
    "  - Its safe to say Aliens and Stocks being the top words in their respective categorys helped classify the post \n",
    "  - My aim was to maximise PPV or recall, it was achieved through the svm model with params {'C': 10.0, 'gamma': 0.1, 'kernel': 'rbf'} and TfidfVectorizer params 'english' stop words + \"ha\",'wa','im','doe'.\n",
    "  \n",
    "  \n",
    "# Next Steps:\n",
    "  - Remove common words that appear in greater frequencies in both subreddits\n",
    "  - Add some numerical features such as title length and upper case words vs lower case\n",
    "    "
   ]
  },
  {
   "cell_type": "markdown",
   "metadata": {},
   "source": [
    "## Imports + Python Reddit API Wrapper (PRAW)"
   ]
  },
  {
   "cell_type": "code",
   "execution_count": 1,
   "metadata": {},
   "outputs": [],
   "source": [
    "import praw\n",
    "import string\n",
    "import pandas as pd\n",
    "import matplotlib.pyplot as plt\n",
    "import seaborn as sns\n",
    "\n",
    "from sklearn.feature_extraction.text import CountVectorizer\n",
    "from sklearn.model_selection import train_test_split, GridSearchCV\n",
    "from sklearn.metrics import classification_report, confusion_matrix, accuracy_score, roc_auc_score\n",
    "from sklearn.linear_model import LogisticRegression\n",
    "from sklearn.preprocessing import StandardScaler\n",
    "from sklearn.feature_extraction import text\n",
    "\n",
    "from nltk.stem import WordNetLemmatizer \n",
    "from nltk.tokenize import sent_tokenize, word_tokenize, RegexpTokenizer\n",
    "from nltk.corpus import stopwords\n",
    "from nltk.stem import PorterStemmer\n",
    "import re\n",
    "\n",
    "from jupyterthemes import jtplot\n",
    "jtplot.style()\n",
    "\n",
    "pd.options.display.max_colwidth = 400"
   ]
  },
  {
   "cell_type": "code",
   "execution_count": 2,
   "metadata": {},
   "outputs": [],
   "source": [
    "# interface with Reddit API\n",
    "reddit = praw.Reddit(client_id = 'XHsZZVSjfSABiw',     \n",
    "                     client_secret = 'JihIFf816GAS2_9Nfc0VvtRUeqM', \n",
    "                     user_agent = 'scrap1',    #my app\n",
    "                     username = 'jbroche23',      \n",
    "                     password = 'sybxog-2pokpo-fofJip')      \n",
    "\n",
    "#pick the name of a subreddit\n",
    "aliens_subreddit = reddit.subreddit('aliens')    \n",
    "stock_subreddit = reddit.subreddit('stocks')\n",
    "\n",
    "#Specify what type of posts from subreddits to pull - New = latest\n",
    "AL_subreddit_new = aliens_subreddit.new(limit = 1000)\n",
    "ST_subreddit_new = stock_subreddit.new(limit = 1000)\n",
    "\n",
    "#Specify what type of posts from subreddits to pull - Gilded = user voted as top\n",
    "#AL_subreddit_gild = aliens_subreddit.new(limit = 1000)\n",
    "#ST_subreddit_gild = stock_subreddit.new(limit = 1000)\n",
    "\n",
    "#Specify what type of posts from subreddits to pull - New = latest\n",
    "#AL_subreddit_hot = aliens_subreddit.new(limit = 1000)\n",
    "#ST_subreddit_hot = stock_subreddit.new(limit = 1000)\n",
    "\n",
    "topics_dict = { \"title\":[],\n",
    "                \"score\":[],\n",
    "                \"id\":[],\n",
    "                \"url\":[], \n",
    "                \"comms_num\": [],\n",
    "                \"created\": [],\n",
    "                \"body\":[]}\n",
    "\n",
    "topics_dict2 = { \"title\":[],\n",
    "                \"score\":[],\n",
    "                \"id\":[],\n",
    "                \"url\":[], \n",
    "                \"comms_num\": [],\n",
    "                \"created\": [],\n",
    "                \"body\":[]}\n",
    "\n",
    "#Use a for loop to take the posts gathered by the wrapper and place them into a dictionary.\n",
    "for item in AL_subreddit_new:\n",
    "    topics_dict[\"title\"].append(item.title)\n",
    "    topics_dict[\"score\"].append(item.score)\n",
    "    topics_dict[\"id\"].append(item.id)\n",
    "    topics_dict[\"url\"].append(item.url)\n",
    "    topics_dict[\"comms_num\"].append(item.num_comments)\n",
    "    topics_dict[\"created\"].append(item.created)\n",
    "    topics_dict[\"body\"].append(item.selftext)\n",
    "\n",
    "for item in ST_subreddit_new:\n",
    "    topics_dict2[\"title\"].append(item.title)\n",
    "    topics_dict2[\"score\"].append(item.score)\n",
    "    topics_dict2[\"id\"].append(item.id)\n",
    "    topics_dict2[\"url\"].append(item.url)\n",
    "    topics_dict2[\"comms_num\"].append(item.num_comments)\n",
    "    topics_dict2[\"created\"].append(item.created)\n",
    "    topics_dict2[\"body\"].append(item.selftext)\n"
   ]
  },
  {
   "cell_type": "markdown",
   "metadata": {},
   "source": [
    "# Load Data"
   ]
  },
  {
   "cell_type": "code",
   "execution_count": 3,
   "metadata": {},
   "outputs": [],
   "source": [
    "#Dfs\n",
    "df = pd.DataFrame(topics_dict)\n",
    "df2 = pd.DataFrame(topics_dict2)\n",
    "\n",
    "#create target label cols\n",
    "df['subreddit'] = 'aliens'\n",
    "df2['subreddit'] = 'stocks'\n",
    "\n",
    "# concat my dfs\n",
    "dfconcat = pd.concat([df,df2])\n",
    "dfconcatcopy = dfconcat.copy()\n",
    "\n",
    "#drop cols\n",
    "dfconcat.drop(columns=['url','created','score','comms_num'],inplace=True)\n",
    "dfconcat.drop_duplicates(['id'])\n",
    "\n",
    "#map cols\n",
    "dfconcat['subreddit'] = dfconcat['subreddit'].map({'aliens': 0, 'stocks': 1})"
   ]
  },
  {
   "cell_type": "code",
   "execution_count": 4,
   "metadata": {},
   "outputs": [
    {
     "data": {
      "text/html": [
       "<div>\n",
       "<style scoped>\n",
       "    .dataframe tbody tr th:only-of-type {\n",
       "        vertical-align: middle;\n",
       "    }\n",
       "\n",
       "    .dataframe tbody tr th {\n",
       "        vertical-align: top;\n",
       "    }\n",
       "\n",
       "    .dataframe thead th {\n",
       "        text-align: right;\n",
       "    }\n",
       "</style>\n",
       "<table border=\"1\" class=\"dataframe\">\n",
       "  <thead>\n",
       "    <tr style=\"text-align: right;\">\n",
       "      <th></th>\n",
       "      <th>0</th>\n",
       "    </tr>\n",
       "  </thead>\n",
       "  <tbody>\n",
       "    <tr>\n",
       "      <th>title</th>\n",
       "      <td>Prophet Yahweh summons UFO for ABC News</td>\n",
       "    </tr>\n",
       "    <tr>\n",
       "      <th>score</th>\n",
       "      <td>1</td>\n",
       "    </tr>\n",
       "    <tr>\n",
       "      <th>id</th>\n",
       "      <td>jfkuof</td>\n",
       "    </tr>\n",
       "    <tr>\n",
       "      <th>url</th>\n",
       "      <td>https://youtu.be/haCcvnFJdNk</td>\n",
       "    </tr>\n",
       "    <tr>\n",
       "      <th>comms_num</th>\n",
       "      <td>0</td>\n",
       "    </tr>\n",
       "    <tr>\n",
       "      <th>created</th>\n",
       "      <td>1.60334e+09</td>\n",
       "    </tr>\n",
       "    <tr>\n",
       "      <th>body</th>\n",
       "      <td></td>\n",
       "    </tr>\n",
       "    <tr>\n",
       "      <th>subreddit</th>\n",
       "      <td>aliens</td>\n",
       "    </tr>\n",
       "  </tbody>\n",
       "</table>\n",
       "</div>"
      ],
      "text/plain": [
       "                                                 0\n",
       "title      Prophet Yahweh summons UFO for ABC News\n",
       "score                                            1\n",
       "id                                          jfkuof\n",
       "url                   https://youtu.be/haCcvnFJdNk\n",
       "comms_num                                        0\n",
       "created                                1.60334e+09\n",
       "body                                              \n",
       "subreddit                                   aliens"
      ]
     },
     "execution_count": 4,
     "metadata": {},
     "output_type": "execute_result"
    }
   ],
   "source": [
    "df.head(1).transpose()"
   ]
  },
  {
   "cell_type": "code",
   "execution_count": 5,
   "metadata": {},
   "outputs": [
    {
     "data": {
      "text/html": [
       "<div>\n",
       "<style scoped>\n",
       "    .dataframe tbody tr th:only-of-type {\n",
       "        vertical-align: middle;\n",
       "    }\n",
       "\n",
       "    .dataframe tbody tr th {\n",
       "        vertical-align: top;\n",
       "    }\n",
       "\n",
       "    .dataframe thead th {\n",
       "        text-align: right;\n",
       "    }\n",
       "</style>\n",
       "<table border=\"1\" class=\"dataframe\">\n",
       "  <thead>\n",
       "    <tr style=\"text-align: right;\">\n",
       "      <th></th>\n",
       "      <th>0</th>\n",
       "    </tr>\n",
       "  </thead>\n",
       "  <tbody>\n",
       "    <tr>\n",
       "      <th>title</th>\n",
       "      <td>What's the best defense sector company to invest in?</td>\n",
       "    </tr>\n",
       "    <tr>\n",
       "      <th>score</th>\n",
       "      <td>1</td>\n",
       "    </tr>\n",
       "    <tr>\n",
       "      <th>id</th>\n",
       "      <td>jfkukm</td>\n",
       "    </tr>\n",
       "    <tr>\n",
       "      <th>url</th>\n",
       "      <td>https://www.reddit.com/r/stocks/comments/jfkukm/whats_the_best_defense_sector_company_to_invest_in/</td>\n",
       "    </tr>\n",
       "    <tr>\n",
       "      <th>comms_num</th>\n",
       "      <td>0</td>\n",
       "    </tr>\n",
       "    <tr>\n",
       "      <th>created</th>\n",
       "      <td>1.60334e+09</td>\n",
       "    </tr>\n",
       "    <tr>\n",
       "      <th>body</th>\n",
       "      <td>It is to my understanding that in general terms , military budget expenditure is unlikely to decrease in the oncoming nears due to rise of China/ Russia/ insert other hostile nation. Budget increases in military spending with a few competitors and high barriers to entry make it a relatively lucrative area to invest in. I'm currently looking between these 4 separate companies with a bunch of he...</td>\n",
       "    </tr>\n",
       "    <tr>\n",
       "      <th>subreddit</th>\n",
       "      <td>stocks</td>\n",
       "    </tr>\n",
       "  </tbody>\n",
       "</table>\n",
       "</div>"
      ],
      "text/plain": [
       "                                                                                                                                                                                                                                                                                                                                                                                                                         0\n",
       "title                                                                                                                                                                                                                                                                                                                                                                 What's the best defense sector company to invest in?\n",
       "score                                                                                                                                                                                                                                                                                                                                                                                                                    1\n",
       "id                                                                                                                                                                                                                                                                                                                                                                                                                  jfkukm\n",
       "url                                                                                                                                                                                                                                                                                                                    https://www.reddit.com/r/stocks/comments/jfkukm/whats_the_best_defense_sector_company_to_invest_in/\n",
       "comms_num                                                                                                                                                                                                                                                                                                                                                                                                                0\n",
       "created                                                                                                                                                                                                                                                                                                                                                                                                        1.60334e+09\n",
       "body       It is to my understanding that in general terms , military budget expenditure is unlikely to decrease in the oncoming nears due to rise of China/ Russia/ insert other hostile nation. Budget increases in military spending with a few competitors and high barriers to entry make it a relatively lucrative area to invest in. I'm currently looking between these 4 separate companies with a bunch of he...\n",
       "subreddit                                                                                                                                                                                                                                                                                                                                                                                                           stocks"
      ]
     },
     "execution_count": 5,
     "metadata": {},
     "output_type": "execute_result"
    }
   ],
   "source": [
    "df2.head(1).transpose()"
   ]
  },
  {
   "cell_type": "code",
   "execution_count": 6,
   "metadata": {},
   "outputs": [
    {
     "data": {
      "text/plain": [
       "1    990\n",
       "0    911\n",
       "Name: subreddit, dtype: int64"
      ]
     },
     "execution_count": 6,
     "metadata": {},
     "output_type": "execute_result"
    }
   ],
   "source": [
    "dfconcat['subreddit'].value_counts()"
   ]
  },
  {
   "cell_type": "code",
   "execution_count": 7,
   "metadata": {},
   "outputs": [
    {
     "data": {
      "text/plain": [
       "1    0.520779\n",
       "0    0.479221\n",
       "Name: subreddit, dtype: float64"
      ]
     },
     "execution_count": 7,
     "metadata": {},
     "output_type": "execute_result"
    }
   ],
   "source": [
    "dfconcat['subreddit'].value_counts(normalize=True)"
   ]
  },
  {
   "cell_type": "markdown",
   "metadata": {},
   "source": [
    "# PreProcessing"
   ]
  },
  {
   "cell_type": "code",
   "execution_count": 8,
   "metadata": {},
   "outputs": [],
   "source": [
    "# outbalanced classes need oversampling\n",
    "df_pos = dfconcat[dfconcat['subreddit'] == 0]\n",
    "\n",
    "df_pos = df_pos.sample(84) # 84 because the class unbalance = 84\n",
    "\n",
    "df_final = pd.concat([dfconcat,df_pos],axis=0)"
   ]
  },
  {
   "cell_type": "code",
   "execution_count": 9,
   "metadata": {},
   "outputs": [
    {
     "data": {
      "text/html": [
       "<div>\n",
       "<style scoped>\n",
       "    .dataframe tbody tr th:only-of-type {\n",
       "        vertical-align: middle;\n",
       "    }\n",
       "\n",
       "    .dataframe tbody tr th {\n",
       "        vertical-align: top;\n",
       "    }\n",
       "\n",
       "    .dataframe thead th {\n",
       "        text-align: right;\n",
       "    }\n",
       "</style>\n",
       "<table border=\"1\" class=\"dataframe\">\n",
       "  <thead>\n",
       "    <tr style=\"text-align: right;\">\n",
       "      <th></th>\n",
       "      <th>0</th>\n",
       "    </tr>\n",
       "  </thead>\n",
       "  <tbody>\n",
       "    <tr>\n",
       "      <th>title</th>\n",
       "      <td>Prophet Yahweh summons UFO for ABC News</td>\n",
       "    </tr>\n",
       "    <tr>\n",
       "      <th>id</th>\n",
       "      <td>jfkuof</td>\n",
       "    </tr>\n",
       "    <tr>\n",
       "      <th>body</th>\n",
       "      <td></td>\n",
       "    </tr>\n",
       "    <tr>\n",
       "      <th>subreddit</th>\n",
       "      <td>0</td>\n",
       "    </tr>\n",
       "  </tbody>\n",
       "</table>\n",
       "</div>"
      ],
      "text/plain": [
       "                                                 0\n",
       "title      Prophet Yahweh summons UFO for ABC News\n",
       "id                                          jfkuof\n",
       "body                                              \n",
       "subreddit                                        0"
      ]
     },
     "execution_count": 9,
     "metadata": {},
     "output_type": "execute_result"
    }
   ],
   "source": [
    "df_final.head(1).transpose()"
   ]
  },
  {
   "cell_type": "code",
   "execution_count": 10,
   "metadata": {},
   "outputs": [
    {
     "name": "stdout",
     "output_type": "stream",
     "text": [
      "DF shape before Target balance: (1901, 4) \n",
      "DF shape after Target balance: (1985, 4) \n"
     ]
    }
   ],
   "source": [
    "#classes balanced\n",
    "print(f'DF shape before Target balance: {dfconcat.shape} ')\n",
    "print(f'DF shape after Target balance: {df_final.shape} ')      "
   ]
  },
  {
   "cell_type": "code",
   "execution_count": 11,
   "metadata": {},
   "outputs": [],
   "source": [
    "df_final['title'] = df_final['title'].replace('\\nhttp\\S+', '', regex=True).replace('http\\S+', '', regex=True).replace('www\\S+', '', regex=True).replace('\\n\\n\\S+', '', regex=True).replace('\\n\\S+', '', regex=True).replace('#\\S+','', regex = True).replace('@\\S+', '', regex=True)\n",
    "df_final['body'] = df_final['body'].replace('\\nhttp\\S+', '', regex=True).replace('http\\S+', '', regex=True).replace('www\\S+', '', regex=True).replace('\\n\\n\\S+', '', regex=True).replace('\\n\\S+', '', regex=True).replace('#\\S+','', regex = True).replace('@\\S+', '', regex=True)"
   ]
  },
  {
   "cell_type": "code",
   "execution_count": 12,
   "metadata": {},
   "outputs": [],
   "source": [
    "# Heathers Code from NLP lesson\n",
    "\n",
    "lemmer = WordNetLemmatizer()  #instantiate stemmer\n",
    "\n",
    "def remove_punctuation(text):\n",
    "    lower = text.lower()  \n",
    "    exclude = string.punctuation  #identifies punctuation marks\n",
    "    return \"\".join(ch for ch in lower if ch not in exclude) \n",
    "   #this iterates through each character, if the character is not a punctuation mark it will join to the empty string\n",
    "\n",
    "df_final['title'] = df_final['body'].apply(remove_punctuation)\n",
    "df_final['body'] = df_final['body'].apply(remove_punctuation)\n"
   ]
  },
  {
   "cell_type": "code",
   "execution_count": 13,
   "metadata": {},
   "outputs": [],
   "source": [
    "# Heathers Code from NLP lesson\n",
    "\n",
    "def split_and_stem(string):\n",
    "    word = \"\"   #empty string\n",
    "    string = string.split(' ') #creates list of words\n",
    "    for i in string: #iterates through that list of words\n",
    "        word += (lemmer.lemmatize(i) + \" \")  #stems each word and adds to empty string\n",
    "    return word  #returns string with stemmed words\n",
    "\n",
    "df_final['title'] = df_final['title'].apply(split_and_stem)\n",
    "df_final['body'] = df_final['body'].apply(split_and_stem)"
   ]
  },
  {
   "cell_type": "code",
   "execution_count": 14,
   "metadata": {},
   "outputs": [],
   "source": [
    "df_finalcopy = df_final.copy()"
   ]
  },
  {
   "cell_type": "code",
   "execution_count": 15,
   "metadata": {},
   "outputs": [
    {
     "data": {
      "text/html": [
       "<div>\n",
       "<style scoped>\n",
       "    .dataframe tbody tr th:only-of-type {\n",
       "        vertical-align: middle;\n",
       "    }\n",
       "\n",
       "    .dataframe tbody tr th {\n",
       "        vertical-align: top;\n",
       "    }\n",
       "\n",
       "    .dataframe thead th {\n",
       "        text-align: right;\n",
       "    }\n",
       "</style>\n",
       "<table border=\"1\" class=\"dataframe\">\n",
       "  <thead>\n",
       "    <tr style=\"text-align: right;\">\n",
       "      <th></th>\n",
       "      <th>0</th>\n",
       "      <th>1</th>\n",
       "      <th>2</th>\n",
       "      <th>3</th>\n",
       "      <th>4</th>\n",
       "    </tr>\n",
       "  </thead>\n",
       "  <tbody>\n",
       "    <tr>\n",
       "      <th>title</th>\n",
       "      <td></td>\n",
       "      <td></td>\n",
       "      <td>i went on a long rant in reply to that post and felt strongly about the relevance of making my reply an actual post it a bit of a read but please stay with me post here  this is what legit ufo footage should look like someone who sifts through about anywhere from 5 to 15 or more ufo sighting submission footage segment a day i can tell you that clear legit ufo footage when it doe materialize ei...</td>\n",
       "      <td>2 intriguing ufo video footage segment recently submitted to mufon source  chapter index provided at bottom of post in san ramon and palm spring california first segment is filmed at night and the second segment is a daylight captured by a lady taking her dog for a walk first video segment is the most anomalous and unusual looking however if it were rotated 120 degree clockwise it would have q...</td>\n",
       "      <td></td>\n",
       "    </tr>\n",
       "    <tr>\n",
       "      <th>id</th>\n",
       "      <td>jfkuof</td>\n",
       "      <td>jfkeq3</td>\n",
       "      <td>jfh03c</td>\n",
       "      <td>jffn03</td>\n",
       "      <td>jff7h3</td>\n",
       "    </tr>\n",
       "    <tr>\n",
       "      <th>body</th>\n",
       "      <td></td>\n",
       "      <td></td>\n",
       "      <td>i went on a long rant in reply to that post and felt strongly about the relevance of making my reply an actual post it a bit of a read but please stay with me post here  this is what legit ufo footage should look like someone who sifts through about anywhere from 5 to 15 or more ufo sighting submission footage segment a day i can tell you that clear legit ufo footage when it doe materialize ei...</td>\n",
       "      <td>2 intriguing ufo video footage segment recently submitted to mufon source  chapter index provided at bottom of post in san ramon and palm spring california first segment is filmed at night and the second segment is a daylight captured by a lady taking her dog for a walk first video segment is the most anomalous and unusual looking however if it were rotated 120 degree clockwise it would have q...</td>\n",
       "      <td></td>\n",
       "    </tr>\n",
       "    <tr>\n",
       "      <th>subreddit</th>\n",
       "      <td>0</td>\n",
       "      <td>0</td>\n",
       "      <td>0</td>\n",
       "      <td>0</td>\n",
       "      <td>0</td>\n",
       "    </tr>\n",
       "  </tbody>\n",
       "</table>\n",
       "</div>"
      ],
      "text/plain": [
       "                0       1  \\\n",
       "title                       \n",
       "id         jfkuof  jfkeq3   \n",
       "body                        \n",
       "subreddit       0       0   \n",
       "\n",
       "                                                                                                                                                                                                                                                                                                                                                                                                                         2  \\\n",
       "title      i went on a long rant in reply to that post and felt strongly about the relevance of making my reply an actual post it a bit of a read but please stay with me post here  this is what legit ufo footage should look like someone who sifts through about anywhere from 5 to 15 or more ufo sighting submission footage segment a day i can tell you that clear legit ufo footage when it doe materialize ei...   \n",
       "id                                                                                                                                                                                                                                                                                                                                                                                                                  jfh03c   \n",
       "body       i went on a long rant in reply to that post and felt strongly about the relevance of making my reply an actual post it a bit of a read but please stay with me post here  this is what legit ufo footage should look like someone who sifts through about anywhere from 5 to 15 or more ufo sighting submission footage segment a day i can tell you that clear legit ufo footage when it doe materialize ei...   \n",
       "subreddit                                                                                                                                                                                                                                                                                                                                                                                                                0   \n",
       "\n",
       "                                                                                                                                                                                                                                                                                                                                                                                                                         3  \\\n",
       "title      2 intriguing ufo video footage segment recently submitted to mufon source  chapter index provided at bottom of post in san ramon and palm spring california first segment is filmed at night and the second segment is a daylight captured by a lady taking her dog for a walk first video segment is the most anomalous and unusual looking however if it were rotated 120 degree clockwise it would have q...   \n",
       "id                                                                                                                                                                                                                                                                                                                                                                                                                  jffn03   \n",
       "body       2 intriguing ufo video footage segment recently submitted to mufon source  chapter index provided at bottom of post in san ramon and palm spring california first segment is filmed at night and the second segment is a daylight captured by a lady taking her dog for a walk first video segment is the most anomalous and unusual looking however if it were rotated 120 degree clockwise it would have q...   \n",
       "subreddit                                                                                                                                                                                                                                                                                                                                                                                                                0   \n",
       "\n",
       "                4  \n",
       "title              \n",
       "id         jff7h3  \n",
       "body               \n",
       "subreddit       0  "
      ]
     },
     "execution_count": 15,
     "metadata": {},
     "output_type": "execute_result"
    }
   ],
   "source": [
    "df_finalcopy.head(5).transpose()"
   ]
  },
  {
   "cell_type": "code",
   "execution_count": null,
   "metadata": {},
   "outputs": [],
   "source": []
  },
  {
   "cell_type": "markdown",
   "metadata": {},
   "source": [
    "# PreProcessing + Modeling"
   ]
  },
  {
   "cell_type": "code",
   "execution_count": 16,
   "metadata": {},
   "outputs": [],
   "source": [
    "X = df_final['title']\n",
    "y = df_final['subreddit']\n",
    "\n",
    "X_train, X_test, y_train, y_test = train_test_split(X,\n",
    "                                                    y,\n",
    "                                                    test_size = 0.33,\n",
    "                                                    random_state = 63,\n",
    "                                                    stratify = y )"
   ]
  },
  {
   "cell_type": "code",
   "execution_count": 17,
   "metadata": {},
   "outputs": [
    {
     "data": {
      "text/plain": [
       "(0.49887133182844245, 0.49847560975609756)"
      ]
     },
     "execution_count": 17,
     "metadata": {},
     "output_type": "execute_result"
    }
   ],
   "source": [
    "y_train.mean(), y_test.mean()"
   ]
  },
  {
   "cell_type": "code",
   "execution_count": null,
   "metadata": {},
   "outputs": [],
   "source": []
  },
  {
   "cell_type": "code",
   "execution_count": 18,
   "metadata": {},
   "outputs": [
    {
     "data": {
      "text/plain": [
       "((1329,), (656,))"
      ]
     },
     "execution_count": 18,
     "metadata": {},
     "output_type": "execute_result"
    }
   ],
   "source": [
    "X_train.shape , X_test.shape"
   ]
  },
  {
   "cell_type": "code",
   "execution_count": 19,
   "metadata": {},
   "outputs": [],
   "source": [
    "my_stop_words = text.ENGLISH_STOP_WORDS.union([\"ha\",'wa','im','doe'])\n",
    "\n",
    "cv = CountVectorizer(stop_words=my_stop_words,max_features=5000)\n",
    "\n",
    "cv.fit(X_train)\n",
    "\n",
    "X_train_cv = cv.transform(X_train)\n",
    "\n",
    "X_test_cv = cv.transform(X_test)"
   ]
  },
  {
   "cell_type": "code",
   "execution_count": 20,
   "metadata": {},
   "outputs": [
    {
     "data": {
      "image/png": "[encoded data removed]",
      "text/plain": [
       "<Figure size 460.8x403.2 with 1 Axes>"
      ]
     },
     "metadata": {},
     "output_type": "display_data"
    }
   ],
   "source": [
    "# this is just to visualize what is happening\n",
    "X_train_df = pd.DataFrame(X_train_cv.todense(), \n",
    "                          columns=cv.get_feature_names())\n",
    "# plot top occuring words\n",
    "X_train_df.sum().sort_values(ascending=False).head(20).plot(kind='barh');"
   ]
  },
  {
   "cell_type": "code",
   "execution_count": 21,
   "metadata": {},
   "outputs": [
    {
     "data": {
      "text/plain": [
       "(1329, 5000)"
      ]
     },
     "execution_count": 21,
     "metadata": {},
     "output_type": "execute_result"
    }
   ],
   "source": [
    "X_train_df.shape"
   ]
  },
  {
   "cell_type": "markdown",
   "metadata": {},
   "source": [
    "#  Baseline model = LogReg"
   ]
  },
  {
   "cell_type": "code",
   "execution_count": 22,
   "metadata": {},
   "outputs": [
    {
     "data": {
      "text/plain": [
       "(0.9969902182091799, 0.9573170731707317)"
      ]
     },
     "execution_count": 22,
     "metadata": {},
     "output_type": "execute_result"
    }
   ],
   "source": [
    "lr = LogisticRegression()\n",
    "\n",
    "lr.fit(X_train_cv,y_train)\n",
    "\n",
    "# Evaluate\n",
    "lr.score(X_train_cv, y_train) , lr.score(X_test_cv, y_test)"
   ]
  },
  {
   "cell_type": "code",
   "execution_count": 23,
   "metadata": {},
   "outputs": [
    {
     "data": {
      "text/plain": [
       "0    0.501524\n",
       "1    0.498476\n",
       "Name: subreddit, dtype: float64"
      ]
     },
     "execution_count": 23,
     "metadata": {},
     "output_type": "execute_result"
    }
   ],
   "source": [
    "# Evaluate against the baseline\n",
    "y_test.value_counts(normalize=True)"
   ]
  },
  {
   "cell_type": "code",
   "execution_count": 24,
   "metadata": {},
   "outputs": [
    {
     "data": {
      "text/plain": [
       "0    0.501129\n",
       "1    0.498871\n",
       "Name: subreddit, dtype: float64"
      ]
     },
     "execution_count": 24,
     "metadata": {},
     "output_type": "execute_result"
    }
   ],
   "source": [
    "y_train.value_counts(normalize=True)"
   ]
  },
  {
   "cell_type": "markdown",
   "metadata": {},
   "source": [
    "# Evaluate Model Metrics"
   ]
  },
  {
   "cell_type": "code",
   "execution_count": 33,
   "metadata": {},
   "outputs": [
    {
     "data": {
      "image/png": "[encoded data removed]",
      "text/plain": [
       "<Figure size 460.8x403.2 with 2 Axes>"
      ]
     },
     "metadata": {},
     "output_type": "display_data"
    }
   ],
   "source": [
    "from sklearn.metrics import plot_confusion_matrix\n",
    "from sklearn.metrics import plot_roc_curve\n",
    "\n",
    "# Generate predictions.\n",
    "preds = lr.predict(X_test_cv)\n",
    "pred_proba = lr.predict_proba(X_test_cv)[:,1]\n",
    "\n",
    "def metrics(y_test, y_predict, pred_proba):\n",
    "    print('Accuracy score %s ' % accuracy_score(y_test, y_predict), '\\n')\n",
    "    print('----------------------------------------------------------------')\n",
    "    print(pd.DataFrame(confusion_matrix(y_test, y_predict), \n",
    "                            index=['Predicted Alienz', 'Predicted Stonks'], \n",
    "                            columns=['Actual Alienz', 'Actual Stonks']), '\\n')\n",
    "    print('-----------------------------------------------------------------')\n",
    "    print(classification_report(y_test, y_predict))\n",
    "    print('-----------------------------------------------------------------')\n",
    "    print('ROC_AUC SCORE %s ' %roc_auc_score(y_test, pred_proba))\n",
    "\n",
    "plot_confusion_matrix(lr, X_test_cv, y_test, cmap='Blues', \n",
    "                      values_format='d', display_labels=['Alienz', 'Stocks']);"
   ]
  },
  {
   "cell_type": "code",
   "execution_count": 30,
   "metadata": {},
   "outputs": [
    {
     "name": "stdout",
     "output_type": "stream",
     "text": [
      "Accuracy score 0.9573170731707317  \n",
      "\n",
      "----------------------------------------------------------------\n",
      "                  Actual Alienz  Actual Stonks\n",
      "Predicted Alienz            323              6\n",
      "Predicted Stonks             22            305 \n",
      "\n",
      "-----------------------------------------------------------------\n",
      "              precision    recall  f1-score   support\n",
      "\n",
      "           0       0.94      0.98      0.96       329\n",
      "           1       0.98      0.93      0.96       327\n",
      "\n",
      "    accuracy                           0.96       656\n",
      "   macro avg       0.96      0.96      0.96       656\n",
      "weighted avg       0.96      0.96      0.96       656\n",
      "\n",
      "-----------------------------------------------------------------\n",
      "ROC_AUC SCORE 0.9948133069351105 \n"
     ]
    }
   ],
   "source": [
    "metrics(y_test, preds, pred_proba)"
   ]
  },
  {
   "cell_type": "code",
   "execution_count": 34,
   "metadata": {},
   "outputs": [
    {
     "data": {
      "image/png": "[encoded data removed]",
      "text/plain": [
       "<Figure size 460.8x403.2 with 1 Axes>"
      ]
     },
     "metadata": {},
     "output_type": "display_data"
    }
   ],
   "source": [
    "plot_roc_curve(lr, X_test_cv, y_test)\n",
    "plt.plot([0, 1], [0, 1],\n",
    "         label='baseline', linestyle='--')\n",
    "plt.legend();\n"
   ]
  },
  {
   "cell_type": "code",
   "execution_count": null,
   "metadata": {},
   "outputs": [],
   "source": []
  },
  {
   "cell_type": "code",
   "execution_count": null,
   "metadata": {},
   "outputs": [],
   "source": []
  },
  {
   "cell_type": "code",
   "execution_count": null,
   "metadata": {},
   "outputs": [],
   "source": []
  },
  {
   "cell_type": "code",
   "execution_count": null,
   "metadata": {},
   "outputs": [],
   "source": []
  },
  {
   "cell_type": "code",
   "execution_count": 28,
   "metadata": {},
   "outputs": [],
   "source": [
    "#df_finalcopy.to_csv('../project_3/ALvsST.csv',index=False)"
   ]
  },
  {
   "cell_type": "code",
   "execution_count": null,
   "metadata": {},
   "outputs": [],
   "source": []
  },
  {
   "cell_type": "code",
   "execution_count": null,
   "metadata": {},
   "outputs": [],
   "source": []
  },
  {
   "cell_type": "code",
   "execution_count": null,
   "metadata": {},
   "outputs": [],
   "source": []
  },
  {
   "cell_type": "code",
   "execution_count": null,
   "metadata": {},
   "outputs": [],
   "source": []
  }
 ],
 "metadata": {
  "kernelspec": {
   "display_name": "Python 3",
   "language": "python",
   "name": "python3"
  },
  "language_info": {
   "codemirror_mode": {
    "name": "ipython",
    "version": 3
   },
   "file_extension": ".py",
   "mimetype": "text/x-python",
   "name": "python",
   "nbconvert_exporter": "python",
   "pygments_lexer": "ipython3",
   "version": "3.8.3"
  }
 },
 "nbformat": 4,
 "nbformat_minor": 4
}
